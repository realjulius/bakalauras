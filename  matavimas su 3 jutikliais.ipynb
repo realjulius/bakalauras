{
 "cells": [
  {
   "cell_type": "code",
   "execution_count": 1,
   "metadata": {},
   "outputs": [
    {
     "data": {
      "text/html": [
       "\n",
       "    <div class=\"bk-root\">\n",
       "        <a href=\"https://bokeh.pydata.org\" target=\"_blank\" class=\"bk-logo bk-logo-small bk-logo-notebook\"></a>\n",
       "        <span id=\"1001\">Loading BokehJS ...</span>\n",
       "    </div>"
      ]
     },
     "metadata": {},
     "output_type": "display_data"
    },
    {
     "data": {
      "application/javascript": [
       "\n",
       "(function(root) {\n",
       "  function now() {\n",
       "    return new Date();\n",
       "  }\n",
       "\n",
       "  var force = true;\n",
       "\n",
       "  if (typeof root._bokeh_onload_callbacks === \"undefined\" || force === true) {\n",
       "    root._bokeh_onload_callbacks = [];\n",
       "    root._bokeh_is_loading = undefined;\n",
       "  }\n",
       "\n",
       "  var JS_MIME_TYPE = 'application/javascript';\n",
       "  var HTML_MIME_TYPE = 'text/html';\n",
       "  var EXEC_MIME_TYPE = 'application/vnd.bokehjs_exec.v0+json';\n",
       "  var CLASS_NAME = 'output_bokeh rendered_html';\n",
       "\n",
       "  /**\n",
       "   * Render data to the DOM node\n",
       "   */\n",
       "  function render(props, node) {\n",
       "    var script = document.createElement(\"script\");\n",
       "    node.appendChild(script);\n",
       "  }\n",
       "\n",
       "  /**\n",
       "   * Handle when an output is cleared or removed\n",
       "   */\n",
       "  function handleClearOutput(event, handle) {\n",
       "    var cell = handle.cell;\n",
       "\n",
       "    var id = cell.output_area._bokeh_element_id;\n",
       "    var server_id = cell.output_area._bokeh_server_id;\n",
       "    // Clean up Bokeh references\n",
       "    if (id != null && id in Bokeh.index) {\n",
       "      Bokeh.index[id].model.document.clear();\n",
       "      delete Bokeh.index[id];\n",
       "    }\n",
       "\n",
       "    if (server_id !== undefined) {\n",
       "      // Clean up Bokeh references\n",
       "      var cmd = \"from bokeh.io.state import curstate; print(curstate().uuid_to_server['\" + server_id + \"'].get_sessions()[0].document.roots[0]._id)\";\n",
       "      cell.notebook.kernel.execute(cmd, {\n",
       "        iopub: {\n",
       "          output: function(msg) {\n",
       "            var id = msg.content.text.trim();\n",
       "            if (id in Bokeh.index) {\n",
       "              Bokeh.index[id].model.document.clear();\n",
       "              delete Bokeh.index[id];\n",
       "            }\n",
       "          }\n",
       "        }\n",
       "      });\n",
       "      // Destroy server and session\n",
       "      var cmd = \"import bokeh.io.notebook as ion; ion.destroy_server('\" + server_id + \"')\";\n",
       "      cell.notebook.kernel.execute(cmd);\n",
       "    }\n",
       "  }\n",
       "\n",
       "  /**\n",
       "   * Handle when a new output is added\n",
       "   */\n",
       "  function handleAddOutput(event, handle) {\n",
       "    var output_area = handle.output_area;\n",
       "    var output = handle.output;\n",
       "\n",
       "    // limit handleAddOutput to display_data with EXEC_MIME_TYPE content only\n",
       "    if ((output.output_type != \"display_data\") || (!output.data.hasOwnProperty(EXEC_MIME_TYPE))) {\n",
       "      return\n",
       "    }\n",
       "\n",
       "    var toinsert = output_area.element.find(\".\" + CLASS_NAME.split(' ')[0]);\n",
       "\n",
       "    if (output.metadata[EXEC_MIME_TYPE][\"id\"] !== undefined) {\n",
       "      toinsert[toinsert.length - 1].firstChild.textContent = output.data[JS_MIME_TYPE];\n",
       "      // store reference to embed id on output_area\n",
       "      output_area._bokeh_element_id = output.metadata[EXEC_MIME_TYPE][\"id\"];\n",
       "    }\n",
       "    if (output.metadata[EXEC_MIME_TYPE][\"server_id\"] !== undefined) {\n",
       "      var bk_div = document.createElement(\"div\");\n",
       "      bk_div.innerHTML = output.data[HTML_MIME_TYPE];\n",
       "      var script_attrs = bk_div.children[0].attributes;\n",
       "      for (var i = 0; i < script_attrs.length; i++) {\n",
       "        toinsert[toinsert.length - 1].firstChild.setAttribute(script_attrs[i].name, script_attrs[i].value);\n",
       "      }\n",
       "      // store reference to server id on output_area\n",
       "      output_area._bokeh_server_id = output.metadata[EXEC_MIME_TYPE][\"server_id\"];\n",
       "    }\n",
       "  }\n",
       "\n",
       "  function register_renderer(events, OutputArea) {\n",
       "\n",
       "    function append_mime(data, metadata, element) {\n",
       "      // create a DOM node to render to\n",
       "      var toinsert = this.create_output_subarea(\n",
       "        metadata,\n",
       "        CLASS_NAME,\n",
       "        EXEC_MIME_TYPE\n",
       "      );\n",
       "      this.keyboard_manager.register_events(toinsert);\n",
       "      // Render to node\n",
       "      var props = {data: data, metadata: metadata[EXEC_MIME_TYPE]};\n",
       "      render(props, toinsert[toinsert.length - 1]);\n",
       "      element.append(toinsert);\n",
       "      return toinsert\n",
       "    }\n",
       "\n",
       "    /* Handle when an output is cleared or removed */\n",
       "    events.on('clear_output.CodeCell', handleClearOutput);\n",
       "    events.on('delete.Cell', handleClearOutput);\n",
       "\n",
       "    /* Handle when a new output is added */\n",
       "    events.on('output_added.OutputArea', handleAddOutput);\n",
       "\n",
       "    /**\n",
       "     * Register the mime type and append_mime function with output_area\n",
       "     */\n",
       "    OutputArea.prototype.register_mime_type(EXEC_MIME_TYPE, append_mime, {\n",
       "      /* Is output safe? */\n",
       "      safe: true,\n",
       "      /* Index of renderer in `output_area.display_order` */\n",
       "      index: 0\n",
       "    });\n",
       "  }\n",
       "\n",
       "  // register the mime type if in Jupyter Notebook environment and previously unregistered\n",
       "  if (root.Jupyter !== undefined) {\n",
       "    var events = require('base/js/events');\n",
       "    var OutputArea = require('notebook/js/outputarea').OutputArea;\n",
       "\n",
       "    if (OutputArea.prototype.mime_types().indexOf(EXEC_MIME_TYPE) == -1) {\n",
       "      register_renderer(events, OutputArea);\n",
       "    }\n",
       "  }\n",
       "\n",
       "  \n",
       "  if (typeof (root._bokeh_timeout) === \"undefined\" || force === true) {\n",
       "    root._bokeh_timeout = Date.now() + 5000;\n",
       "    root._bokeh_failed_load = false;\n",
       "  }\n",
       "\n",
       "  var NB_LOAD_WARNING = {'data': {'text/html':\n",
       "     \"<div style='background-color: #fdd'>\\n\"+\n",
       "     \"<p>\\n\"+\n",
       "     \"BokehJS does not appear to have successfully loaded. If loading BokehJS from CDN, this \\n\"+\n",
       "     \"may be due to a slow or bad network connection. Possible fixes:\\n\"+\n",
       "     \"</p>\\n\"+\n",
       "     \"<ul>\\n\"+\n",
       "     \"<li>re-rerun `output_notebook()` to attempt to load from CDN again, or</li>\\n\"+\n",
       "     \"<li>use INLINE resources instead, as so:</li>\\n\"+\n",
       "     \"</ul>\\n\"+\n",
       "     \"<code>\\n\"+\n",
       "     \"from bokeh.resources import INLINE\\n\"+\n",
       "     \"output_notebook(resources=INLINE)\\n\"+\n",
       "     \"</code>\\n\"+\n",
       "     \"</div>\"}};\n",
       "\n",
       "  function display_loaded() {\n",
       "    var el = document.getElementById(\"1001\");\n",
       "    if (el != null) {\n",
       "      el.textContent = \"BokehJS is loading...\";\n",
       "    }\n",
       "    if (root.Bokeh !== undefined) {\n",
       "      if (el != null) {\n",
       "        el.textContent = \"BokehJS \" + root.Bokeh.version + \" successfully loaded.\";\n",
       "      }\n",
       "    } else if (Date.now() < root._bokeh_timeout) {\n",
       "      setTimeout(display_loaded, 100)\n",
       "    }\n",
       "  }\n",
       "\n",
       "\n",
       "  function run_callbacks() {\n",
       "    try {\n",
       "      root._bokeh_onload_callbacks.forEach(function(callback) {\n",
       "        if (callback != null)\n",
       "          callback();\n",
       "      });\n",
       "    } finally {\n",
       "      delete root._bokeh_onload_callbacks\n",
       "    }\n",
       "    console.debug(\"Bokeh: all callbacks have finished\");\n",
       "  }\n",
       "\n",
       "  function load_libs(css_urls, js_urls, callback) {\n",
       "    if (css_urls == null) css_urls = [];\n",
       "    if (js_urls == null) js_urls = [];\n",
       "\n",
       "    root._bokeh_onload_callbacks.push(callback);\n",
       "    if (root._bokeh_is_loading > 0) {\n",
       "      console.debug(\"Bokeh: BokehJS is being loaded, scheduling callback at\", now());\n",
       "      return null;\n",
       "    }\n",
       "    if (js_urls == null || js_urls.length === 0) {\n",
       "      run_callbacks();\n",
       "      return null;\n",
       "    }\n",
       "    console.debug(\"Bokeh: BokehJS not loaded, scheduling load and callback at\", now());\n",
       "    root._bokeh_is_loading = css_urls.length + js_urls.length;\n",
       "\n",
       "    function on_load() {\n",
       "      root._bokeh_is_loading--;\n",
       "      if (root._bokeh_is_loading === 0) {\n",
       "        console.debug(\"Bokeh: all BokehJS libraries/stylesheets loaded\");\n",
       "        run_callbacks()\n",
       "      }\n",
       "    }\n",
       "\n",
       "    function on_error() {\n",
       "      console.error(\"failed to load \" + url);\n",
       "    }\n",
       "\n",
       "    for (var i = 0; i < css_urls.length; i++) {\n",
       "      var url = css_urls[i];\n",
       "      const element = document.createElement(\"link\");\n",
       "      element.onload = on_load;\n",
       "      element.onerror = on_error;\n",
       "      element.rel = \"stylesheet\";\n",
       "      element.type = \"text/css\";\n",
       "      element.href = url;\n",
       "      console.debug(\"Bokeh: injecting link tag for BokehJS stylesheet: \", url);\n",
       "      document.body.appendChild(element);\n",
       "    }\n",
       "\n",
       "    for (var i = 0; i < js_urls.length; i++) {\n",
       "      var url = js_urls[i];\n",
       "      var element = document.createElement('script');\n",
       "      element.onload = on_load;\n",
       "      element.onerror = on_error;\n",
       "      element.async = false;\n",
       "      element.src = url;\n",
       "      console.debug(\"Bokeh: injecting script tag for BokehJS library: \", url);\n",
       "      document.head.appendChild(element);\n",
       "    }\n",
       "  };var element = document.getElementById(\"1001\");\n",
       "  if (element == null) {\n",
       "    console.error(\"Bokeh: ERROR: autoload.js configured with elementid '1001' but no matching script tag was found. \")\n",
       "    return false;\n",
       "  }\n",
       "\n",
       "  function inject_raw_css(css) {\n",
       "    const element = document.createElement(\"style\");\n",
       "    element.appendChild(document.createTextNode(css));\n",
       "    document.body.appendChild(element);\n",
       "  }\n",
       "\n",
       "  var js_urls = [\"https://cdn.pydata.org/bokeh/release/bokeh-1.1.0.min.js\", \"https://cdn.pydata.org/bokeh/release/bokeh-widgets-1.1.0.min.js\", \"https://cdn.pydata.org/bokeh/release/bokeh-tables-1.1.0.min.js\", \"https://cdn.pydata.org/bokeh/release/bokeh-gl-1.1.0.min.js\"];\n",
       "  var css_urls = [\"https://cdn.pydata.org/bokeh/release/bokeh-1.1.0.min.css\", \"https://cdn.pydata.org/bokeh/release/bokeh-widgets-1.1.0.min.css\", \"https://cdn.pydata.org/bokeh/release/bokeh-tables-1.1.0.min.css\"];\n",
       "\n",
       "  var inline_js = [\n",
       "    function(Bokeh) {\n",
       "      Bokeh.set_log_level(\"info\");\n",
       "    },\n",
       "    \n",
       "    function(Bokeh) {\n",
       "      \n",
       "    },\n",
       "    function(Bokeh) {} // ensure no trailing comma for IE\n",
       "  ];\n",
       "\n",
       "  function run_inline_js() {\n",
       "    \n",
       "    if ((root.Bokeh !== undefined) || (force === true)) {\n",
       "      for (var i = 0; i < inline_js.length; i++) {\n",
       "        inline_js[i].call(root, root.Bokeh);\n",
       "      }if (force === true) {\n",
       "        display_loaded();\n",
       "      }} else if (Date.now() < root._bokeh_timeout) {\n",
       "      setTimeout(run_inline_js, 100);\n",
       "    } else if (!root._bokeh_failed_load) {\n",
       "      console.log(\"Bokeh: BokehJS failed to load within specified timeout.\");\n",
       "      root._bokeh_failed_load = true;\n",
       "    } else if (force !== true) {\n",
       "      var cell = $(document.getElementById(\"1001\")).parents('.cell').data().cell;\n",
       "      cell.output_area.append_execute_result(NB_LOAD_WARNING)\n",
       "    }\n",
       "\n",
       "  }\n",
       "\n",
       "  if (root._bokeh_is_loading === 0) {\n",
       "    console.debug(\"Bokeh: BokehJS loaded, going straight to plotting\");\n",
       "    run_inline_js();\n",
       "  } else {\n",
       "    load_libs(css_urls, js_urls, function() {\n",
       "      console.debug(\"Bokeh: BokehJS plotting callback run at\", now());\n",
       "      run_inline_js();\n",
       "    });\n",
       "  }\n",
       "}(window));"
      ],
      "application/vnd.bokehjs_load.v0+json": "\n(function(root) {\n  function now() {\n    return new Date();\n  }\n\n  var force = true;\n\n  if (typeof root._bokeh_onload_callbacks === \"undefined\" || force === true) {\n    root._bokeh_onload_callbacks = [];\n    root._bokeh_is_loading = undefined;\n  }\n\n  \n\n  \n  if (typeof (root._bokeh_timeout) === \"undefined\" || force === true) {\n    root._bokeh_timeout = Date.now() + 5000;\n    root._bokeh_failed_load = false;\n  }\n\n  var NB_LOAD_WARNING = {'data': {'text/html':\n     \"<div style='background-color: #fdd'>\\n\"+\n     \"<p>\\n\"+\n     \"BokehJS does not appear to have successfully loaded. If loading BokehJS from CDN, this \\n\"+\n     \"may be due to a slow or bad network connection. Possible fixes:\\n\"+\n     \"</p>\\n\"+\n     \"<ul>\\n\"+\n     \"<li>re-rerun `output_notebook()` to attempt to load from CDN again, or</li>\\n\"+\n     \"<li>use INLINE resources instead, as so:</li>\\n\"+\n     \"</ul>\\n\"+\n     \"<code>\\n\"+\n     \"from bokeh.resources import INLINE\\n\"+\n     \"output_notebook(resources=INLINE)\\n\"+\n     \"</code>\\n\"+\n     \"</div>\"}};\n\n  function display_loaded() {\n    var el = document.getElementById(\"1001\");\n    if (el != null) {\n      el.textContent = \"BokehJS is loading...\";\n    }\n    if (root.Bokeh !== undefined) {\n      if (el != null) {\n        el.textContent = \"BokehJS \" + root.Bokeh.version + \" successfully loaded.\";\n      }\n    } else if (Date.now() < root._bokeh_timeout) {\n      setTimeout(display_loaded, 100)\n    }\n  }\n\n\n  function run_callbacks() {\n    try {\n      root._bokeh_onload_callbacks.forEach(function(callback) {\n        if (callback != null)\n          callback();\n      });\n    } finally {\n      delete root._bokeh_onload_callbacks\n    }\n    console.debug(\"Bokeh: all callbacks have finished\");\n  }\n\n  function load_libs(css_urls, js_urls, callback) {\n    if (css_urls == null) css_urls = [];\n    if (js_urls == null) js_urls = [];\n\n    root._bokeh_onload_callbacks.push(callback);\n    if (root._bokeh_is_loading > 0) {\n      console.debug(\"Bokeh: BokehJS is being loaded, scheduling callback at\", now());\n      return null;\n    }\n    if (js_urls == null || js_urls.length === 0) {\n      run_callbacks();\n      return null;\n    }\n    console.debug(\"Bokeh: BokehJS not loaded, scheduling load and callback at\", now());\n    root._bokeh_is_loading = css_urls.length + js_urls.length;\n\n    function on_load() {\n      root._bokeh_is_loading--;\n      if (root._bokeh_is_loading === 0) {\n        console.debug(\"Bokeh: all BokehJS libraries/stylesheets loaded\");\n        run_callbacks()\n      }\n    }\n\n    function on_error() {\n      console.error(\"failed to load \" + url);\n    }\n\n    for (var i = 0; i < css_urls.length; i++) {\n      var url = css_urls[i];\n      const element = document.createElement(\"link\");\n      element.onload = on_load;\n      element.onerror = on_error;\n      element.rel = \"stylesheet\";\n      element.type = \"text/css\";\n      element.href = url;\n      console.debug(\"Bokeh: injecting link tag for BokehJS stylesheet: \", url);\n      document.body.appendChild(element);\n    }\n\n    for (var i = 0; i < js_urls.length; i++) {\n      var url = js_urls[i];\n      var element = document.createElement('script');\n      element.onload = on_load;\n      element.onerror = on_error;\n      element.async = false;\n      element.src = url;\n      console.debug(\"Bokeh: injecting script tag for BokehJS library: \", url);\n      document.head.appendChild(element);\n    }\n  };var element = document.getElementById(\"1001\");\n  if (element == null) {\n    console.error(\"Bokeh: ERROR: autoload.js configured with elementid '1001' but no matching script tag was found. \")\n    return false;\n  }\n\n  function inject_raw_css(css) {\n    const element = document.createElement(\"style\");\n    element.appendChild(document.createTextNode(css));\n    document.body.appendChild(element);\n  }\n\n  var js_urls = [\"https://cdn.pydata.org/bokeh/release/bokeh-1.1.0.min.js\", \"https://cdn.pydata.org/bokeh/release/bokeh-widgets-1.1.0.min.js\", \"https://cdn.pydata.org/bokeh/release/bokeh-tables-1.1.0.min.js\", \"https://cdn.pydata.org/bokeh/release/bokeh-gl-1.1.0.min.js\"];\n  var css_urls = [\"https://cdn.pydata.org/bokeh/release/bokeh-1.1.0.min.css\", \"https://cdn.pydata.org/bokeh/release/bokeh-widgets-1.1.0.min.css\", \"https://cdn.pydata.org/bokeh/release/bokeh-tables-1.1.0.min.css\"];\n\n  var inline_js = [\n    function(Bokeh) {\n      Bokeh.set_log_level(\"info\");\n    },\n    \n    function(Bokeh) {\n      \n    },\n    function(Bokeh) {} // ensure no trailing comma for IE\n  ];\n\n  function run_inline_js() {\n    \n    if ((root.Bokeh !== undefined) || (force === true)) {\n      for (var i = 0; i < inline_js.length; i++) {\n        inline_js[i].call(root, root.Bokeh);\n      }if (force === true) {\n        display_loaded();\n      }} else if (Date.now() < root._bokeh_timeout) {\n      setTimeout(run_inline_js, 100);\n    } else if (!root._bokeh_failed_load) {\n      console.log(\"Bokeh: BokehJS failed to load within specified timeout.\");\n      root._bokeh_failed_load = true;\n    } else if (force !== true) {\n      var cell = $(document.getElementById(\"1001\")).parents('.cell').data().cell;\n      cell.output_area.append_execute_result(NB_LOAD_WARNING)\n    }\n\n  }\n\n  if (root._bokeh_is_loading === 0) {\n    console.debug(\"Bokeh: BokehJS loaded, going straight to plotting\");\n    run_inline_js();\n  } else {\n    load_libs(css_urls, js_urls, function() {\n      console.debug(\"Bokeh: BokehJS plotting callback run at\", now());\n      run_inline_js();\n    });\n  }\n}(window));"
     },
     "metadata": {},
     "output_type": "display_data"
    }
   ],
   "source": [
    "import pandas as pd\n",
    "import numpy as np\n",
    "import matplotlib.pyplot as plt\n",
    "import seaborn\n",
    "from bokeh.io import output_notebook, show, export_png\n",
    "from bokeh.plotting import figure\n",
    "from bokeh.io import show, output_file\n",
    "from bokeh.plotting import figure\n",
    "from selenium import webdriver\n",
    "from phantomjs_bin import executable_path\n",
    "output_notebook()\n",
    "%matplotlib inline\n",
    "data = pd.read_csv('matavimo_data test 2 su 3 MEMS.csv')\n"
   ]
  },
  {
   "cell_type": "code",
   "execution_count": 2,
   "metadata": {},
   "outputs": [],
   "source": [
    "# data['Time'] = pd.to_datetime(data['Time'],format= '%H:%M:%S' ).dt.time"
   ]
  },
  {
   "cell_type": "code",
   "execution_count": 3,
   "metadata": {
    "scrolled": true
   },
   "outputs": [
    {
     "data": {
      "text/html": [
       "<div>\n",
       "<style scoped>\n",
       "    .dataframe tbody tr th:only-of-type {\n",
       "        vertical-align: middle;\n",
       "    }\n",
       "\n",
       "    .dataframe tbody tr th {\n",
       "        vertical-align: top;\n",
       "    }\n",
       "\n",
       "    .dataframe thead th {\n",
       "        text-align: right;\n",
       "    }\n",
       "</style>\n",
       "<table border=\"1\" class=\"dataframe\">\n",
       "  <thead>\n",
       "    <tr style=\"text-align: right;\">\n",
       "      <th></th>\n",
       "      <th>Time</th>\n",
       "      <th>Ax, g</th>\n",
       "      <th>Ay, g</th>\n",
       "      <th>Az, g</th>\n",
       "      <th>Wx, dps</th>\n",
       "      <th>Wy, dps</th>\n",
       "      <th>Wz, dps</th>\n",
       "      <th>T, C</th>\n",
       "      <th>Ax2, g</th>\n",
       "      <th>Ay2, g</th>\n",
       "      <th>Az2, g</th>\n",
       "      <th>Wx2, dps</th>\n",
       "      <th>Wy2, dps</th>\n",
       "      <th>Wz2, dps</th>\n",
       "      <th>T2, C</th>\n",
       "    </tr>\n",
       "  </thead>\n",
       "  <tbody>\n",
       "    <tr>\n",
       "      <th>0</th>\n",
       "      <td>14:45:02</td>\n",
       "      <td>-0.000024</td>\n",
       "      <td>-0.000005</td>\n",
       "      <td>-1.090000e-05</td>\n",
       "      <td>0.000437</td>\n",
       "      <td>0.000419</td>\n",
       "      <td>-0.000364</td>\n",
       "      <td>26.161921</td>\n",
       "      <td>-0.000007</td>\n",
       "      <td>-0.000018</td>\n",
       "      <td>0.000019</td>\n",
       "      <td>0.000410</td>\n",
       "      <td>0.000018</td>\n",
       "      <td>0.000156</td>\n",
       "      <td>26.592476</td>\n",
       "    </tr>\n",
       "    <tr>\n",
       "      <th>1</th>\n",
       "      <td>14:45:03</td>\n",
       "      <td>-0.000044</td>\n",
       "      <td>-0.000022</td>\n",
       "      <td>4.710000e-05</td>\n",
       "      <td>-0.000123</td>\n",
       "      <td>-0.000377</td>\n",
       "      <td>0.000549</td>\n",
       "      <td>26.159138</td>\n",
       "      <td>0.000031</td>\n",
       "      <td>-0.000022</td>\n",
       "      <td>0.000017</td>\n",
       "      <td>-0.000202</td>\n",
       "      <td>0.000305</td>\n",
       "      <td>0.000398</td>\n",
       "      <td>26.589249</td>\n",
       "    </tr>\n",
       "    <tr>\n",
       "      <th>2</th>\n",
       "      <td>14:45:04</td>\n",
       "      <td>0.000024</td>\n",
       "      <td>0.000017</td>\n",
       "      <td>-1.970000e-05</td>\n",
       "      <td>-0.000358</td>\n",
       "      <td>0.000053</td>\n",
       "      <td>0.000226</td>\n",
       "      <td>26.163332</td>\n",
       "      <td>-0.000046</td>\n",
       "      <td>-0.000036</td>\n",
       "      <td>0.000013</td>\n",
       "      <td>-0.000763</td>\n",
       "      <td>0.000275</td>\n",
       "      <td>-0.000130</td>\n",
       "      <td>26.573694</td>\n",
       "    </tr>\n",
       "    <tr>\n",
       "      <th>3</th>\n",
       "      <td>14:45:05</td>\n",
       "      <td>0.000028</td>\n",
       "      <td>0.000007</td>\n",
       "      <td>-4.800000e-07</td>\n",
       "      <td>0.001357</td>\n",
       "      <td>-0.000395</td>\n",
       "      <td>0.000234</td>\n",
       "      <td>26.161770</td>\n",
       "      <td>0.000006</td>\n",
       "      <td>0.000007</td>\n",
       "      <td>0.000023</td>\n",
       "      <td>0.000476</td>\n",
       "      <td>0.000192</td>\n",
       "      <td>-0.000030</td>\n",
       "      <td>26.563944</td>\n",
       "    </tr>\n",
       "    <tr>\n",
       "      <th>4</th>\n",
       "      <td>14:45:06</td>\n",
       "      <td>-0.000038</td>\n",
       "      <td>0.000002</td>\n",
       "      <td>5.280000e-06</td>\n",
       "      <td>0.000636</td>\n",
       "      <td>0.000125</td>\n",
       "      <td>-0.000392</td>\n",
       "      <td>26.157944</td>\n",
       "      <td>0.000045</td>\n",
       "      <td>-0.000003</td>\n",
       "      <td>0.000029</td>\n",
       "      <td>-0.001020</td>\n",
       "      <td>0.000223</td>\n",
       "      <td>-0.000627</td>\n",
       "      <td>26.570206</td>\n",
       "    </tr>\n",
       "  </tbody>\n",
       "</table>\n",
       "</div>"
      ],
      "text/plain": [
       "       Time     Ax, g     Ay, g         Az, g   Wx, dps   Wy, dps   Wz, dps  \\\n",
       "0  14:45:02 -0.000024 -0.000005 -1.090000e-05  0.000437  0.000419 -0.000364   \n",
       "1  14:45:03 -0.000044 -0.000022  4.710000e-05 -0.000123 -0.000377  0.000549   \n",
       "2  14:45:04  0.000024  0.000017 -1.970000e-05 -0.000358  0.000053  0.000226   \n",
       "3  14:45:05  0.000028  0.000007 -4.800000e-07  0.001357 -0.000395  0.000234   \n",
       "4  14:45:06 -0.000038  0.000002  5.280000e-06  0.000636  0.000125 -0.000392   \n",
       "\n",
       "        T, C    Ax2, g    Ay2, g    Az2, g  Wx2, dps  Wy2, dps  Wz2, dps  \\\n",
       "0  26.161921 -0.000007 -0.000018  0.000019  0.000410  0.000018  0.000156   \n",
       "1  26.159138  0.000031 -0.000022  0.000017 -0.000202  0.000305  0.000398   \n",
       "2  26.163332 -0.000046 -0.000036  0.000013 -0.000763  0.000275 -0.000130   \n",
       "3  26.161770  0.000006  0.000007  0.000023  0.000476  0.000192 -0.000030   \n",
       "4  26.157944  0.000045 -0.000003  0.000029 -0.001020  0.000223 -0.000627   \n",
       "\n",
       "       T2, C  \n",
       "0  26.592476  \n",
       "1  26.589249  \n",
       "2  26.573694  \n",
       "3  26.563944  \n",
       "4  26.570206  "
      ]
     },
     "execution_count": 3,
     "metadata": {},
     "output_type": "execute_result"
    }
   ],
   "source": [
    "data.head()"
   ]
  },
  {
   "cell_type": "code",
   "execution_count": null,
   "metadata": {},
   "outputs": [],
   "source": []
  },
  {
   "cell_type": "markdown",
   "metadata": {},
   "source": [
    "# Vidurkių skaičiavimas"
   ]
  },
  {
   "cell_type": "code",
   "execution_count": 4,
   "metadata": {},
   "outputs": [
    {
     "ename": "KeyError",
     "evalue": "'Ax3, g'",
     "output_type": "error",
     "traceback": [
      "\u001b[1;31m---------------------------------------------------------------------------\u001b[0m",
      "\u001b[1;31mKeyError\u001b[0m                                  Traceback (most recent call last)",
      "\u001b[1;32mc:\\program files\\python37\\lib\\site-packages\\pandas\\core\\indexes\\base.py\u001b[0m in \u001b[0;36mget_loc\u001b[1;34m(self, key, method, tolerance)\u001b[0m\n\u001b[0;32m   2656\u001b[0m             \u001b[1;32mtry\u001b[0m\u001b[1;33m:\u001b[0m\u001b[1;33m\u001b[0m\u001b[1;33m\u001b[0m\u001b[0m\n\u001b[1;32m-> 2657\u001b[1;33m                 \u001b[1;32mreturn\u001b[0m \u001b[0mself\u001b[0m\u001b[1;33m.\u001b[0m\u001b[0m_engine\u001b[0m\u001b[1;33m.\u001b[0m\u001b[0mget_loc\u001b[0m\u001b[1;33m(\u001b[0m\u001b[0mkey\u001b[0m\u001b[1;33m)\u001b[0m\u001b[1;33m\u001b[0m\u001b[1;33m\u001b[0m\u001b[0m\n\u001b[0m\u001b[0;32m   2658\u001b[0m             \u001b[1;32mexcept\u001b[0m \u001b[0mKeyError\u001b[0m\u001b[1;33m:\u001b[0m\u001b[1;33m\u001b[0m\u001b[1;33m\u001b[0m\u001b[0m\n",
      "\u001b[1;32mpandas\\_libs\\index.pyx\u001b[0m in \u001b[0;36mpandas._libs.index.IndexEngine.get_loc\u001b[1;34m()\u001b[0m\n",
      "\u001b[1;32mpandas\\_libs\\index.pyx\u001b[0m in \u001b[0;36mpandas._libs.index.IndexEngine.get_loc\u001b[1;34m()\u001b[0m\n",
      "\u001b[1;32mpandas\\_libs\\hashtable_class_helper.pxi\u001b[0m in \u001b[0;36mpandas._libs.hashtable.PyObjectHashTable.get_item\u001b[1;34m()\u001b[0m\n",
      "\u001b[1;32mpandas\\_libs\\hashtable_class_helper.pxi\u001b[0m in \u001b[0;36mpandas._libs.hashtable.PyObjectHashTable.get_item\u001b[1;34m()\u001b[0m\n",
      "\u001b[1;31mKeyError\u001b[0m: 'Ax3, g'",
      "\nDuring handling of the above exception, another exception occurred:\n",
      "\u001b[1;31mKeyError\u001b[0m                                  Traceback (most recent call last)",
      "\u001b[1;32m<ipython-input-4-7e8835b29a45>\u001b[0m in \u001b[0;36m<module>\u001b[1;34m\u001b[0m\n\u001b[0;32m      8\u001b[0m \u001b[0mdata\u001b[0m\u001b[1;33m.\u001b[0m\u001b[0mloc\u001b[0m\u001b[1;33m[\u001b[0m\u001b[1;33m:\u001b[0m\u001b[1;33m,\u001b[0m\u001b[1;34m'Az2, g'\u001b[0m\u001b[1;33m]\u001b[0m \u001b[1;33m*=\u001b[0m \u001b[1;36m9.81\u001b[0m\u001b[1;33m\u001b[0m\u001b[1;33m\u001b[0m\u001b[0m\n\u001b[0;32m      9\u001b[0m \u001b[1;33m\u001b[0m\u001b[0m\n\u001b[1;32m---> 10\u001b[1;33m \u001b[0mdata\u001b[0m\u001b[1;33m.\u001b[0m\u001b[0mloc\u001b[0m\u001b[1;33m[\u001b[0m\u001b[1;33m:\u001b[0m\u001b[1;33m,\u001b[0m\u001b[1;34m'Ax3, g'\u001b[0m\u001b[1;33m]\u001b[0m \u001b[1;33m*=\u001b[0m \u001b[1;36m9.81\u001b[0m\u001b[1;33m\u001b[0m\u001b[1;33m\u001b[0m\u001b[0m\n\u001b[0m\u001b[0;32m     11\u001b[0m \u001b[0mdata\u001b[0m\u001b[1;33m.\u001b[0m\u001b[0mloc\u001b[0m\u001b[1;33m[\u001b[0m\u001b[1;33m:\u001b[0m\u001b[1;33m,\u001b[0m\u001b[1;34m'Ay3, g'\u001b[0m\u001b[1;33m]\u001b[0m \u001b[1;33m*=\u001b[0m \u001b[1;36m9.81\u001b[0m\u001b[1;33m\u001b[0m\u001b[1;33m\u001b[0m\u001b[0m\n\u001b[0;32m     12\u001b[0m \u001b[0mdata\u001b[0m\u001b[1;33m.\u001b[0m\u001b[0mloc\u001b[0m\u001b[1;33m[\u001b[0m\u001b[1;33m:\u001b[0m\u001b[1;33m,\u001b[0m\u001b[1;34m'Az3, g'\u001b[0m\u001b[1;33m]\u001b[0m \u001b[1;33m*=\u001b[0m \u001b[1;36m9.81\u001b[0m\u001b[1;33m\u001b[0m\u001b[1;33m\u001b[0m\u001b[0m\n",
      "\u001b[1;32mc:\\program files\\python37\\lib\\site-packages\\pandas\\core\\indexing.py\u001b[0m in \u001b[0;36m__getitem__\u001b[1;34m(self, key)\u001b[0m\n\u001b[0;32m   1492\u001b[0m             \u001b[1;32mexcept\u001b[0m \u001b[1;33m(\u001b[0m\u001b[0mKeyError\u001b[0m\u001b[1;33m,\u001b[0m \u001b[0mIndexError\u001b[0m\u001b[1;33m,\u001b[0m \u001b[0mAttributeError\u001b[0m\u001b[1;33m)\u001b[0m\u001b[1;33m:\u001b[0m\u001b[1;33m\u001b[0m\u001b[1;33m\u001b[0m\u001b[0m\n\u001b[0;32m   1493\u001b[0m                 \u001b[1;32mpass\u001b[0m\u001b[1;33m\u001b[0m\u001b[1;33m\u001b[0m\u001b[0m\n\u001b[1;32m-> 1494\u001b[1;33m             \u001b[1;32mreturn\u001b[0m \u001b[0mself\u001b[0m\u001b[1;33m.\u001b[0m\u001b[0m_getitem_tuple\u001b[0m\u001b[1;33m(\u001b[0m\u001b[0mkey\u001b[0m\u001b[1;33m)\u001b[0m\u001b[1;33m\u001b[0m\u001b[1;33m\u001b[0m\u001b[0m\n\u001b[0m\u001b[0;32m   1495\u001b[0m         \u001b[1;32melse\u001b[0m\u001b[1;33m:\u001b[0m\u001b[1;33m\u001b[0m\u001b[1;33m\u001b[0m\u001b[0m\n\u001b[0;32m   1496\u001b[0m             \u001b[1;31m# we by definition only have the 0th axis\u001b[0m\u001b[1;33m\u001b[0m\u001b[1;33m\u001b[0m\u001b[1;33m\u001b[0m\u001b[0m\n",
      "\u001b[1;32mc:\\program files\\python37\\lib\\site-packages\\pandas\\core\\indexing.py\u001b[0m in \u001b[0;36m_getitem_tuple\u001b[1;34m(self, tup)\u001b[0m\n\u001b[0;32m    866\u001b[0m     \u001b[1;32mdef\u001b[0m \u001b[0m_getitem_tuple\u001b[0m\u001b[1;33m(\u001b[0m\u001b[0mself\u001b[0m\u001b[1;33m,\u001b[0m \u001b[0mtup\u001b[0m\u001b[1;33m)\u001b[0m\u001b[1;33m:\u001b[0m\u001b[1;33m\u001b[0m\u001b[1;33m\u001b[0m\u001b[0m\n\u001b[0;32m    867\u001b[0m         \u001b[1;32mtry\u001b[0m\u001b[1;33m:\u001b[0m\u001b[1;33m\u001b[0m\u001b[1;33m\u001b[0m\u001b[0m\n\u001b[1;32m--> 868\u001b[1;33m             \u001b[1;32mreturn\u001b[0m \u001b[0mself\u001b[0m\u001b[1;33m.\u001b[0m\u001b[0m_getitem_lowerdim\u001b[0m\u001b[1;33m(\u001b[0m\u001b[0mtup\u001b[0m\u001b[1;33m)\u001b[0m\u001b[1;33m\u001b[0m\u001b[1;33m\u001b[0m\u001b[0m\n\u001b[0m\u001b[0;32m    869\u001b[0m         \u001b[1;32mexcept\u001b[0m \u001b[0mIndexingError\u001b[0m\u001b[1;33m:\u001b[0m\u001b[1;33m\u001b[0m\u001b[1;33m\u001b[0m\u001b[0m\n\u001b[0;32m    870\u001b[0m             \u001b[1;32mpass\u001b[0m\u001b[1;33m\u001b[0m\u001b[1;33m\u001b[0m\u001b[0m\n",
      "\u001b[1;32mc:\\program files\\python37\\lib\\site-packages\\pandas\\core\\indexing.py\u001b[0m in \u001b[0;36m_getitem_lowerdim\u001b[1;34m(self, tup)\u001b[0m\n\u001b[0;32m    986\u001b[0m         \u001b[1;32mfor\u001b[0m \u001b[0mi\u001b[0m\u001b[1;33m,\u001b[0m \u001b[0mkey\u001b[0m \u001b[1;32min\u001b[0m \u001b[0menumerate\u001b[0m\u001b[1;33m(\u001b[0m\u001b[0mtup\u001b[0m\u001b[1;33m)\u001b[0m\u001b[1;33m:\u001b[0m\u001b[1;33m\u001b[0m\u001b[1;33m\u001b[0m\u001b[0m\n\u001b[0;32m    987\u001b[0m             \u001b[1;32mif\u001b[0m \u001b[0mis_label_like\u001b[0m\u001b[1;33m(\u001b[0m\u001b[0mkey\u001b[0m\u001b[1;33m)\u001b[0m \u001b[1;32mor\u001b[0m \u001b[0misinstance\u001b[0m\u001b[1;33m(\u001b[0m\u001b[0mkey\u001b[0m\u001b[1;33m,\u001b[0m \u001b[0mtuple\u001b[0m\u001b[1;33m)\u001b[0m\u001b[1;33m:\u001b[0m\u001b[1;33m\u001b[0m\u001b[1;33m\u001b[0m\u001b[0m\n\u001b[1;32m--> 988\u001b[1;33m                 \u001b[0msection\u001b[0m \u001b[1;33m=\u001b[0m \u001b[0mself\u001b[0m\u001b[1;33m.\u001b[0m\u001b[0m_getitem_axis\u001b[0m\u001b[1;33m(\u001b[0m\u001b[0mkey\u001b[0m\u001b[1;33m,\u001b[0m \u001b[0maxis\u001b[0m\u001b[1;33m=\u001b[0m\u001b[0mi\u001b[0m\u001b[1;33m)\u001b[0m\u001b[1;33m\u001b[0m\u001b[1;33m\u001b[0m\u001b[0m\n\u001b[0m\u001b[0;32m    989\u001b[0m \u001b[1;33m\u001b[0m\u001b[0m\n\u001b[0;32m    990\u001b[0m                 \u001b[1;31m# we have yielded a scalar ?\u001b[0m\u001b[1;33m\u001b[0m\u001b[1;33m\u001b[0m\u001b[1;33m\u001b[0m\u001b[0m\n",
      "\u001b[1;32mc:\\program files\\python37\\lib\\site-packages\\pandas\\core\\indexing.py\u001b[0m in \u001b[0;36m_getitem_axis\u001b[1;34m(self, key, axis)\u001b[0m\n\u001b[0;32m   1911\u001b[0m         \u001b[1;31m# fall thru to straight lookup\u001b[0m\u001b[1;33m\u001b[0m\u001b[1;33m\u001b[0m\u001b[1;33m\u001b[0m\u001b[0m\n\u001b[0;32m   1912\u001b[0m         \u001b[0mself\u001b[0m\u001b[1;33m.\u001b[0m\u001b[0m_validate_key\u001b[0m\u001b[1;33m(\u001b[0m\u001b[0mkey\u001b[0m\u001b[1;33m,\u001b[0m \u001b[0maxis\u001b[0m\u001b[1;33m)\u001b[0m\u001b[1;33m\u001b[0m\u001b[1;33m\u001b[0m\u001b[0m\n\u001b[1;32m-> 1913\u001b[1;33m         \u001b[1;32mreturn\u001b[0m \u001b[0mself\u001b[0m\u001b[1;33m.\u001b[0m\u001b[0m_get_label\u001b[0m\u001b[1;33m(\u001b[0m\u001b[0mkey\u001b[0m\u001b[1;33m,\u001b[0m \u001b[0maxis\u001b[0m\u001b[1;33m=\u001b[0m\u001b[0maxis\u001b[0m\u001b[1;33m)\u001b[0m\u001b[1;33m\u001b[0m\u001b[1;33m\u001b[0m\u001b[0m\n\u001b[0m\u001b[0;32m   1914\u001b[0m \u001b[1;33m\u001b[0m\u001b[0m\n\u001b[0;32m   1915\u001b[0m \u001b[1;33m\u001b[0m\u001b[0m\n",
      "\u001b[1;32mc:\\program files\\python37\\lib\\site-packages\\pandas\\core\\indexing.py\u001b[0m in \u001b[0;36m_get_label\u001b[1;34m(self, label, axis)\u001b[0m\n\u001b[0;32m    139\u001b[0m             \u001b[1;32mraise\u001b[0m \u001b[0mIndexingError\u001b[0m\u001b[1;33m(\u001b[0m\u001b[1;34m'no slices here, handle elsewhere'\u001b[0m\u001b[1;33m)\u001b[0m\u001b[1;33m\u001b[0m\u001b[1;33m\u001b[0m\u001b[0m\n\u001b[0;32m    140\u001b[0m \u001b[1;33m\u001b[0m\u001b[0m\n\u001b[1;32m--> 141\u001b[1;33m         \u001b[1;32mreturn\u001b[0m \u001b[0mself\u001b[0m\u001b[1;33m.\u001b[0m\u001b[0mobj\u001b[0m\u001b[1;33m.\u001b[0m\u001b[0m_xs\u001b[0m\u001b[1;33m(\u001b[0m\u001b[0mlabel\u001b[0m\u001b[1;33m,\u001b[0m \u001b[0maxis\u001b[0m\u001b[1;33m=\u001b[0m\u001b[0maxis\u001b[0m\u001b[1;33m)\u001b[0m\u001b[1;33m\u001b[0m\u001b[1;33m\u001b[0m\u001b[0m\n\u001b[0m\u001b[0;32m    142\u001b[0m \u001b[1;33m\u001b[0m\u001b[0m\n\u001b[0;32m    143\u001b[0m     \u001b[1;32mdef\u001b[0m \u001b[0m_get_loc\u001b[0m\u001b[1;33m(\u001b[0m\u001b[0mself\u001b[0m\u001b[1;33m,\u001b[0m \u001b[0mkey\u001b[0m\u001b[1;33m,\u001b[0m \u001b[0maxis\u001b[0m\u001b[1;33m=\u001b[0m\u001b[1;32mNone\u001b[0m\u001b[1;33m)\u001b[0m\u001b[1;33m:\u001b[0m\u001b[1;33m\u001b[0m\u001b[1;33m\u001b[0m\u001b[0m\n",
      "\u001b[1;32mc:\\program files\\python37\\lib\\site-packages\\pandas\\core\\generic.py\u001b[0m in \u001b[0;36mxs\u001b[1;34m(self, key, axis, level, drop_level)\u001b[0m\n\u001b[0;32m   3574\u001b[0m \u001b[1;33m\u001b[0m\u001b[0m\n\u001b[0;32m   3575\u001b[0m         \u001b[1;32mif\u001b[0m \u001b[0maxis\u001b[0m \u001b[1;33m==\u001b[0m \u001b[1;36m1\u001b[0m\u001b[1;33m:\u001b[0m\u001b[1;33m\u001b[0m\u001b[1;33m\u001b[0m\u001b[0m\n\u001b[1;32m-> 3576\u001b[1;33m             \u001b[1;32mreturn\u001b[0m \u001b[0mself\u001b[0m\u001b[1;33m[\u001b[0m\u001b[0mkey\u001b[0m\u001b[1;33m]\u001b[0m\u001b[1;33m\u001b[0m\u001b[1;33m\u001b[0m\u001b[0m\n\u001b[0m\u001b[0;32m   3577\u001b[0m \u001b[1;33m\u001b[0m\u001b[0m\n\u001b[0;32m   3578\u001b[0m         \u001b[0mself\u001b[0m\u001b[1;33m.\u001b[0m\u001b[0m_consolidate_inplace\u001b[0m\u001b[1;33m(\u001b[0m\u001b[1;33m)\u001b[0m\u001b[1;33m\u001b[0m\u001b[1;33m\u001b[0m\u001b[0m\n",
      "\u001b[1;32mc:\\program files\\python37\\lib\\site-packages\\pandas\\core\\frame.py\u001b[0m in \u001b[0;36m__getitem__\u001b[1;34m(self, key)\u001b[0m\n\u001b[0;32m   2925\u001b[0m             \u001b[1;32mif\u001b[0m \u001b[0mself\u001b[0m\u001b[1;33m.\u001b[0m\u001b[0mcolumns\u001b[0m\u001b[1;33m.\u001b[0m\u001b[0mnlevels\u001b[0m \u001b[1;33m>\u001b[0m \u001b[1;36m1\u001b[0m\u001b[1;33m:\u001b[0m\u001b[1;33m\u001b[0m\u001b[1;33m\u001b[0m\u001b[0m\n\u001b[0;32m   2926\u001b[0m                 \u001b[1;32mreturn\u001b[0m \u001b[0mself\u001b[0m\u001b[1;33m.\u001b[0m\u001b[0m_getitem_multilevel\u001b[0m\u001b[1;33m(\u001b[0m\u001b[0mkey\u001b[0m\u001b[1;33m)\u001b[0m\u001b[1;33m\u001b[0m\u001b[1;33m\u001b[0m\u001b[0m\n\u001b[1;32m-> 2927\u001b[1;33m             \u001b[0mindexer\u001b[0m \u001b[1;33m=\u001b[0m \u001b[0mself\u001b[0m\u001b[1;33m.\u001b[0m\u001b[0mcolumns\u001b[0m\u001b[1;33m.\u001b[0m\u001b[0mget_loc\u001b[0m\u001b[1;33m(\u001b[0m\u001b[0mkey\u001b[0m\u001b[1;33m)\u001b[0m\u001b[1;33m\u001b[0m\u001b[1;33m\u001b[0m\u001b[0m\n\u001b[0m\u001b[0;32m   2928\u001b[0m             \u001b[1;32mif\u001b[0m \u001b[0mis_integer\u001b[0m\u001b[1;33m(\u001b[0m\u001b[0mindexer\u001b[0m\u001b[1;33m)\u001b[0m\u001b[1;33m:\u001b[0m\u001b[1;33m\u001b[0m\u001b[1;33m\u001b[0m\u001b[0m\n\u001b[0;32m   2929\u001b[0m                 \u001b[0mindexer\u001b[0m \u001b[1;33m=\u001b[0m \u001b[1;33m[\u001b[0m\u001b[0mindexer\u001b[0m\u001b[1;33m]\u001b[0m\u001b[1;33m\u001b[0m\u001b[1;33m\u001b[0m\u001b[0m\n",
      "\u001b[1;32mc:\\program files\\python37\\lib\\site-packages\\pandas\\core\\indexes\\base.py\u001b[0m in \u001b[0;36mget_loc\u001b[1;34m(self, key, method, tolerance)\u001b[0m\n\u001b[0;32m   2657\u001b[0m                 \u001b[1;32mreturn\u001b[0m \u001b[0mself\u001b[0m\u001b[1;33m.\u001b[0m\u001b[0m_engine\u001b[0m\u001b[1;33m.\u001b[0m\u001b[0mget_loc\u001b[0m\u001b[1;33m(\u001b[0m\u001b[0mkey\u001b[0m\u001b[1;33m)\u001b[0m\u001b[1;33m\u001b[0m\u001b[1;33m\u001b[0m\u001b[0m\n\u001b[0;32m   2658\u001b[0m             \u001b[1;32mexcept\u001b[0m \u001b[0mKeyError\u001b[0m\u001b[1;33m:\u001b[0m\u001b[1;33m\u001b[0m\u001b[1;33m\u001b[0m\u001b[0m\n\u001b[1;32m-> 2659\u001b[1;33m                 \u001b[1;32mreturn\u001b[0m \u001b[0mself\u001b[0m\u001b[1;33m.\u001b[0m\u001b[0m_engine\u001b[0m\u001b[1;33m.\u001b[0m\u001b[0mget_loc\u001b[0m\u001b[1;33m(\u001b[0m\u001b[0mself\u001b[0m\u001b[1;33m.\u001b[0m\u001b[0m_maybe_cast_indexer\u001b[0m\u001b[1;33m(\u001b[0m\u001b[0mkey\u001b[0m\u001b[1;33m)\u001b[0m\u001b[1;33m)\u001b[0m\u001b[1;33m\u001b[0m\u001b[1;33m\u001b[0m\u001b[0m\n\u001b[0m\u001b[0;32m   2660\u001b[0m         \u001b[0mindexer\u001b[0m \u001b[1;33m=\u001b[0m \u001b[0mself\u001b[0m\u001b[1;33m.\u001b[0m\u001b[0mget_indexer\u001b[0m\u001b[1;33m(\u001b[0m\u001b[1;33m[\u001b[0m\u001b[0mkey\u001b[0m\u001b[1;33m]\u001b[0m\u001b[1;33m,\u001b[0m \u001b[0mmethod\u001b[0m\u001b[1;33m=\u001b[0m\u001b[0mmethod\u001b[0m\u001b[1;33m,\u001b[0m \u001b[0mtolerance\u001b[0m\u001b[1;33m=\u001b[0m\u001b[0mtolerance\u001b[0m\u001b[1;33m)\u001b[0m\u001b[1;33m\u001b[0m\u001b[1;33m\u001b[0m\u001b[0m\n\u001b[0;32m   2661\u001b[0m         \u001b[1;32mif\u001b[0m \u001b[0mindexer\u001b[0m\u001b[1;33m.\u001b[0m\u001b[0mndim\u001b[0m \u001b[1;33m>\u001b[0m \u001b[1;36m1\u001b[0m \u001b[1;32mor\u001b[0m \u001b[0mindexer\u001b[0m\u001b[1;33m.\u001b[0m\u001b[0msize\u001b[0m \u001b[1;33m>\u001b[0m \u001b[1;36m1\u001b[0m\u001b[1;33m:\u001b[0m\u001b[1;33m\u001b[0m\u001b[1;33m\u001b[0m\u001b[0m\n",
      "\u001b[1;32mpandas\\_libs\\index.pyx\u001b[0m in \u001b[0;36mpandas._libs.index.IndexEngine.get_loc\u001b[1;34m()\u001b[0m\n",
      "\u001b[1;32mpandas\\_libs\\index.pyx\u001b[0m in \u001b[0;36mpandas._libs.index.IndexEngine.get_loc\u001b[1;34m()\u001b[0m\n",
      "\u001b[1;32mpandas\\_libs\\hashtable_class_helper.pxi\u001b[0m in \u001b[0;36mpandas._libs.hashtable.PyObjectHashTable.get_item\u001b[1;34m()\u001b[0m\n",
      "\u001b[1;32mpandas\\_libs\\hashtable_class_helper.pxi\u001b[0m in \u001b[0;36mpandas._libs.hashtable.PyObjectHashTable.get_item\u001b[1;34m()\u001b[0m\n",
      "\u001b[1;31mKeyError\u001b[0m: 'Ax3, g'"
     ]
    }
   ],
   "source": [
    "# Vertimas i m/s^2\n",
    "data.loc[:,'Ax, g'] *= 9.81\n",
    "data.loc[:,'Ay, g'] *= 9.81\n",
    "data.loc[:,'Az, g'] *= 9.81\n",
    "\n",
    "data.loc[:,'Ax2, g'] *= 9.81\n",
    "data.loc[:,'Ay2, g'] *= 9.81\n",
    "data.loc[:,'Az2, g'] *= 9.81\n",
    "\n",
    "data.loc[:,'Ax3, g'] *= 9.81\n",
    "data.loc[:,'Ay3, g'] *= 9.81\n",
    "data.loc[:,'Az3, g'] *= 9.81"
   ]
  },
  {
   "cell_type": "code",
   "execution_count": null,
   "metadata": {},
   "outputs": [],
   "source": [
    "# Vidrukinimas\n",
    "data['AxV, g'] = data.loc[:, [\"Ax, g\",\"Ax2, g\",\"Ax3, g\"]].astype(float).mean(axis=1)\n",
    "data['AyV, g'] = data.loc[:, [\"Ay, g\",\"Ay2, g\",\"Ay3, g\"]].astype(float).mean(axis=1)\n",
    "data['AzV, g'] = data.loc[:, [\"Az, g\",\"Az2, g\",\"Az3, g\"]].astype(float).mean(axis=1)\n",
    "\n",
    "data['WxV, dps'] = data.loc[:, [\"Wx, dps\",\"Wx2, dps\",\"Wx3, dps\"]].astype(float).mean(axis=1)\n",
    "data['WyV, dps'] = data.loc[:, [\"Wy, dps\",\"Wy2, dps\",\"Wy3, dps\"]].astype(float).mean(axis=1)\n",
    "data['WzV, dps'] = data.loc[:, [\"Wz, dps\",\"Wz2, dps\",\"Wz3, dps\"]].astype(float).mean(axis=1)\n",
    "\n",
    "data['TV, C'] = data.loc[:, [\"T, C\",\"T2, C\",\"T3, C\"]].astype(float).mean(axis=1)"
   ]
  },
  {
   "cell_type": "code",
   "execution_count": null,
   "metadata": {},
   "outputs": [],
   "source": [
    "# Integravimas i greiti\n",
    "data['Vx, m/s']  = data.loc[:, [\"Ax, g\"]].cumsum()\n",
    "data['Vy, m/s']  = data.loc[:, [\"Ay, g\"]].cumsum()\n",
    "data['Vz, m/s']  = data.loc[:, [\"Az, g\"]].cumsum()\n",
    "\n",
    "data['Vx2, m/s']  = data.loc[:, [\"Ax2, g\"]].cumsum()\n",
    "data['Vy2, m/s']  = data.loc[:, [\"Ay2, g\"]].cumsum()\n",
    "data['Vz2, m/s']  = data.loc[:, [\"Az2, g\"]].cumsum()\n",
    "\n",
    "data['Vx3, m/s']  = data.loc[:, [\"Ax3, g\"]].cumsum()\n",
    "data['Vy3, m/s']  = data.loc[:, [\"Ay3, g\"]].cumsum()\n",
    "data['Vz3, m/s']  = data.loc[:, [\"Az3, g\"]].cumsum()\n",
    "\n",
    "data['VxV, m/s']  = data.loc[:, [\"AxV, g\"]].cumsum()\n",
    "data['VyV, m/s']  = data.loc[:, [\"AyV, g\"]].cumsum()\n",
    "data['VzV, m/s']  = data.loc[:, [\"AzV, g\"]].cumsum()\n",
    "\n"
   ]
  },
  {
   "cell_type": "code",
   "execution_count": null,
   "metadata": {},
   "outputs": [],
   "source": [
    "# Integravimas i atstuma\n",
    "\n",
    "data['Sx, m']  = data.loc[:, [\"Vx, m/s\"]].cumsum()\n",
    "data['Sy, m']  = data.loc[:, [\"Vy, m/s\"]].cumsum()\n",
    "data['Sz, m']  = data.loc[:, [\"Vz, m/s\"]].cumsum()\n",
    "\n",
    "data['Sx2, m']  = data.loc[:, [\"Vx2, m/s\"]].cumsum()\n",
    "data['Sy2, m']  = data.loc[:, [\"Vy2, m/s\"]].cumsum()\n",
    "data['Sz2, m']  = data.loc[:, [\"Vz2, m/s\"]].cumsum()\n",
    "\n",
    "data['Sx3, m']  = data.loc[:, [\"Vx3, m/s\"]].cumsum()\n",
    "data['Sy3, m']  = data.loc[:, [\"Vy3, m/s\"]].cumsum()\n",
    "data['Sz3, m']  = data.loc[:, [\"Vz3, m/s\"]].cumsum()\n",
    "\n",
    "data['SxV, m']  = data.loc[:, [\"VxV, m/s\"]].cumsum()\n",
    "data['SyV, m']  = data.loc[:, [\"VyV, m/s\"]].cumsum()\n",
    "data['SzV, m']  = data.loc[:, [\"VzV, m/s\"]].cumsum()"
   ]
  },
  {
   "cell_type": "code",
   "execution_count": null,
   "metadata": {},
   "outputs": [],
   "source": [
    "# Integravimas i kampa\n",
    "data['Gx, deg']  = data.loc[:, [\"Wx, dps\"]].cumsum()\n",
    "data['Gy, deg']  = data.loc[:, [\"Wy, dps\"]].cumsum()\n",
    "data['Gz, deg']  = data.loc[:, [\"Wz, dps\"]].cumsum()\n",
    "\n",
    "data['Gx2, deg']  = data.loc[:, [\"Wx2, dps\"]].cumsum()\n",
    "data['Gy2, deg']  = data.loc[:, [\"Wy2, dps\"]].cumsum()\n",
    "data['Gz2, deg']  = data.loc[:, [\"Wz2, dps\"]].cumsum()\n",
    "\n",
    "data['Gx3, deg']  = data.loc[:, [\"Wx3, dps\"]].cumsum()\n",
    "data['Gy3, deg']  = data.loc[:, [\"Wy3, dps\"]].cumsum()\n",
    "data['Gz3, deg']  = data.loc[:, [\"Wz3, dps\"]].cumsum()\n",
    "\n",
    "data['GxV, deg']  = data.loc[:, [\"WxV, dps\"]].cumsum()\n",
    "data['GyV, deg']  = data.loc[:, [\"WyV, dps\"]].cumsum()\n",
    "data['GzV, deg']  = data.loc[:, [\"WzV, dps\"]].cumsum()"
   ]
  },
  {
   "cell_type": "code",
   "execution_count": null,
   "metadata": {},
   "outputs": [],
   "source": [
    "data.head()"
   ]
  },
  {
   "cell_type": "markdown",
   "metadata": {},
   "source": [
    "# Statistika"
   ]
  },
  {
   "cell_type": "markdown",
   "metadata": {},
   "source": [
    "## Standartinis nuokrypis skirtinguose jutikliuose"
   ]
  },
  {
   "cell_type": "code",
   "execution_count": null,
   "metadata": {},
   "outputs": [],
   "source": [
    "std = pd.DataFrame()\n",
    "std['']  = ['Ax, g', 'Ay, g', 'Az, g', 'Wx, dps', 'Wy, dps', 'Wz, dps', 'T, C']\n",
    "std['Pirmas jutiklis']  = data.loc[:, ['Ax, g', 'Ay, g', 'Az, g', 'Wx, dps', 'Wy, dps', 'Wz, dps', 'T, C']].std(axis=0).reset_index(drop=True)\n",
    "std['Antras jutiklis']  = data.loc[:, ['Ax2, g', 'Ay2, g', 'Az2, g', 'Wx2, dps', 'Wy2, dps', 'Wz2, dps', 'T2, C']].std(axis=0).reset_index(drop=True)\n",
    "std['Trecias jutiklis']  = data.loc[:, ['Ax3, g', 'Ay3, g', 'Az3, g', 'Wx3, dps', 'Wy3, dps', 'Wz3, dps', 'T3, C']].std(axis=0).reset_index(drop=True)\n",
    "std['Vidurkis']  = data.loc[:, ['AxV, g', 'AyV, g', 'AzV, g', 'WxV, dps', 'WyV, dps', 'WzV, dps', 'TV, C']].std(axis=0).reset_index(drop=True)\n",
    "\n",
    "\n",
    "std.loc[std.min(axis=1) == std.loc[:,'Pirmas jutiklis'], 'Maziausias standartinis nuokrypis'] = 'Pirmo'\n",
    "std.loc[std.min(axis=1) == std.loc[:,'Antras jutiklis'], 'Maziausias standartinis nuokrypis'] = 'Antro'\n",
    "std.loc[std.min(axis=1) == std.loc[:,'Vidurkis'], 'Maziausias standartinis nuokrypis'] = 'Vidurkio'\n",
    "std.loc[std.min(axis=1) == std.loc[:,'Trecias jutiklis'], 'Maziausias standartinis nuokrypis'] = 'Trečio'\n"
   ]
  },
  {
   "cell_type": "code",
   "execution_count": null,
   "metadata": {},
   "outputs": [],
   "source": [
    "std"
   ]
  },
  {
   "cell_type": "markdown",
   "metadata": {},
   "source": [
    "# Grafikai"
   ]
  },
  {
   "cell_type": "markdown",
   "metadata": {},
   "source": [
    "## Akselerometras"
   ]
  },
  {
   "cell_type": "code",
   "execution_count": null,
   "metadata": {},
   "outputs": [],
   "source": [
    "p = figure(plot_width=800, plot_height=400, title=\"Akselerometro pagreitis Ax, m/s^2\")\n",
    "p.line(data.index, data['Ax, g'],legend=\"Ax, g\", line_width=2)\n",
    "p.line(data.index, data['Ax2, g'],legend=\"Ax2, g\", color='green', line_width=2)\n",
    "p.line(data.index, data['Ax3, g'],legend=\"Ax3, g\", color='orange', line_width=2)\n",
    "p.line(data.index, data['AxV, g'],legend=\"AxV, g\",color='red', line_width=2)\n",
    "p.xaxis.axis_label = 't, s'\n",
    "p.yaxis.axis_label = 'g'\n",
    "show(p) \n"
   ]
  },
  {
   "cell_type": "code",
   "execution_count": null,
   "metadata": {},
   "outputs": [],
   "source": [
    "p = figure(plot_width=800, plot_height=400, title=\"Akselerometro pagreitis Ay, m/s^2\")\n",
    "p.line(data.index, data['Ay, g'],legend=\"Ay, g\", line_width=2)\n",
    "p.line(data.index, data['Ay2, g'],legend=\"Ay2, g\",color='green', line_width=2)\n",
    "p.line(data.index, data['Ay3, g'],legend=\"Ay3, g\",color='orange', line_width=2)\n",
    "p.line(data.index, data['AyV, g'],legend=\"AyV, g\",color='red', line_width=2)\n",
    "p.xaxis.axis_label = 't, s'\n",
    "p.yaxis.axis_label = 'g'\n",
    "show(p) "
   ]
  },
  {
   "cell_type": "code",
   "execution_count": null,
   "metadata": {},
   "outputs": [],
   "source": [
    "p = figure(plot_width=800, plot_height=400, title=\"Akselerometro pagreitis Az, m/s^2\")\n",
    "p.line(data.index, data['Az, g'],legend=\"Az, g\", line_width=2)\n",
    "p.line(data.index, data['Az2, g'],legend=\"Az2, g\",color='green', line_width=2)\n",
    "p.line(data.index, data['Az3, g'],legend=\"Az3, g\",color='orange', line_width=2)\n",
    "p.line(data.index, data['AzV, g'],legend=\"AzV, g\",color='red', line_width=2)\n",
    "p.xaxis.axis_label = 't, s'\n",
    "p.yaxis.axis_label = 'g'\n",
    "p.legend\n",
    "show(p) "
   ]
  },
  {
   "cell_type": "markdown",
   "metadata": {},
   "source": [
    "## Giroskopas"
   ]
  },
  {
   "cell_type": "code",
   "execution_count": null,
   "metadata": {},
   "outputs": [],
   "source": [
    "p = figure(plot_width=800, plot_height=400, title=\"Giroskopo kampinis greitis Wx, dps\")\n",
    "p.line(data.index, data['Wx, dps'],legend=\"Wx, dps\", line_width=2)\n",
    "p.line(data.index, data['Wx2, dps'],legend=\"Wx2, dps\",color='green', line_width=2)\n",
    "p.line(data.index, data['Wx3, dps'],legend=\"Wx3, dps\",color='orange', line_width=2)\n",
    "p.line(data.index, data['WxV, dps'],legend=\"WxV, dps\",color='red', line_width=2)\n",
    "p.xaxis.axis_label = 't, s'\n",
    "p.yaxis.axis_label = 'dps'\n",
    "p.legend\n",
    "show(p) "
   ]
  },
  {
   "cell_type": "code",
   "execution_count": null,
   "metadata": {},
   "outputs": [],
   "source": [
    "p = figure(plot_width=600, plot_height=400, title=\"Giroskopo kampinis greitis Wy, dps\")\n",
    "p.line(data.index, data['Wy, dps'],legend=\"Wy, dps\", line_width=2)\n",
    "p.line(data.index, data['Wy2, dps'],legend=\"Wy2, dps\",color='green', line_width=2)\n",
    "p.line(data.index, data['WyV, dps'],legend=\"WyV, dps\",color='red', line_width=2)\n",
    "p.xaxis.axis_label = 't, s'\n",
    "p.yaxis.axis_label = 'dps'\n",
    "p.legend\n",
    "show(p) "
   ]
  },
  {
   "cell_type": "code",
   "execution_count": null,
   "metadata": {},
   "outputs": [],
   "source": [
    "p = figure(plot_width=800, plot_height=400, title=\"Giroskopo kampinis greitis wz, dps\")\n",
    "p.line(data.index, data['Wz, dps'],legend=\"Wz, dps\", line_width=2)\n",
    "p.line(data.index, data['Wz2, dps'],legend=\"Wz2, dps\",color='green', line_width=2)\n",
    "p.line(data.index, data['Wz3, dps'],legend=\"Wz3, dps\",color='orange', line_width=2)\n",
    "p.line(data.index, data['WzV, dps'],legend=\"WzV, dps\",color='red', line_width=2)\n",
    "p.xaxis.axis_label = 't, s'\n",
    "p.yaxis.axis_label = 'dps'\n",
    "p.legend\n",
    "show(p) "
   ]
  },
  {
   "cell_type": "markdown",
   "metadata": {},
   "source": [
    "## Temperatūra"
   ]
  },
  {
   "cell_type": "code",
   "execution_count": null,
   "metadata": {},
   "outputs": [],
   "source": [
    "p = figure(plot_width=800, plot_height=400, title=\"T, C\")\n",
    "p.line(data.index, data['T, C'],legend=\"T, C\", line_width=2)\n",
    "p.line(data.index, data['T2, C'],legend=\"T2, C\",color='green', line_width=2)\n",
    "p.line(data.index, data['T3, C'],legend=\"T3, C\",color='orange', line_width=2)\n",
    "p.line(data.index, data['TV, C'],legend=\"TV, C\",color='red', line_width=2)\n",
    "p.xaxis.axis_label = 't, s'\n",
    "p.yaxis.axis_label = 'C'\n",
    "p.legend\n",
    "show(p) "
   ]
  },
  {
   "cell_type": "markdown",
   "metadata": {},
   "source": [
    "# Integravimai"
   ]
  },
  {
   "cell_type": "markdown",
   "metadata": {},
   "source": [
    "## Greitis"
   ]
  },
  {
   "cell_type": "code",
   "execution_count": null,
   "metadata": {},
   "outputs": [],
   "source": [
    "p = figure(plot_width=800, plot_height=400, title=\"Akselerometro greitis Vx, m/s\")\n",
    "p.line(data.index, data['Vx, m/s'],legend=\"Vx, m/s\", line_width=2)\n",
    "p.line(data.index, data['Vx2, m/s'],legend=\"Vx2, m/s\", color='green', line_width=2)\n",
    "p.line(data.index, data['Vx3, m/s'],legend=\"Vx3, m/s\", color='orange', line_width=2)\n",
    "p.line(data.index, data['VxV, m/s'],legend=\"VxV, m/s\",color='red', line_width=2)\n",
    "p.xaxis.axis_label = 't, s'\n",
    "p.yaxis.axis_label = 'm/s'\n",
    "show(p) "
   ]
  },
  {
   "cell_type": "code",
   "execution_count": null,
   "metadata": {},
   "outputs": [],
   "source": [
    "p = figure(plot_width=800, plot_height=400, title=\"Akselerometro greitis Vy, m/s\")\n",
    "p.line(data.index, data['Vy, m/s'],legend=\"Vy, m/s\", line_width=2)\n",
    "p.line(data.index, data['Vy2, m/s'],legend=\"Vy2, m/s\", color='green', line_width=2)\n",
    "p.line(data.index, data['Vy3, m/s'],legend=\"Vy3, m/s\", color='orange', line_width=2)\n",
    "p.line(data.index, data['VyV, m/s'],legend=\"VyV, m/s\",color='red', line_width=2)\n",
    "p.xaxis.axis_label = 't, s'\n",
    "p.yaxis.axis_label = 'm/s'\n",
    "show(p) "
   ]
  },
  {
   "cell_type": "code",
   "execution_count": null,
   "metadata": {},
   "outputs": [],
   "source": [
    "p = figure(plot_width=800, plot_height=400, title=\"Akselerometro greitis Vz, m/s\")\n",
    "p.line(data.index, data['Vz, m/s'], legend=\"Vz, m/s\", line_width=2)\n",
    "p.line(data.index, data['Vz2, m/s'],legend=\"Vz2, m/s\", color='green', line_width=2)\n",
    "p.line(data.index, data['Vz3, m/s'],legend=\"Vz3, m/s\", color='orange', line_width=2)\n",
    "p.line(data.index, data['VzV, m/s'],legend=\"VzV, m/s\",color='red', line_width=2)\n",
    "p.xaxis.axis_label = 't, s'\n",
    "p.yaxis.axis_label = 'm/s'\n",
    "show(p) "
   ]
  },
  {
   "cell_type": "markdown",
   "metadata": {},
   "source": [
    "## Atstumas "
   ]
  },
  {
   "cell_type": "code",
   "execution_count": null,
   "metadata": {},
   "outputs": [],
   "source": [
    "p = figure(plot_width=800, plot_height=400, title=\"Akselerometro atstumas Sx, m\")\n",
    "p.line(data.index, data['Sx, m'], legend=\"Sx, m\", line_width=2)\n",
    "p.line(data.index, data['Sx2, m'],legend=\"Sx2, m\", color='green', line_width=2)\n",
    "p.line(data.index, data['Sx3, m'],legend=\"Sx3, m\", color='orange', line_width=2)\n",
    "p.line(data.index, data['SxV, m'],legend=\"SxV, m\",color='red', line_width=2)\n",
    "p.xaxis.axis_label = 't, s'\n",
    "p.yaxis.axis_label = 'm'\n",
    "show(p) "
   ]
  },
  {
   "cell_type": "code",
   "execution_count": null,
   "metadata": {},
   "outputs": [],
   "source": [
    "p = figure(plot_width=800, plot_height=400, title=\"Akselerometro atstumas Sy, m\")\n",
    "p.line(data.index, data['Sy, m'], legend=\"Sy, m\", line_width=2)\n",
    "p.line(data.index, data['Sy2, m'],legend=\"Sy2, m\", color='green', line_width=2)\n",
    "p.line(data.index, data['Sy3, m'],legend=\"Sy3, m\", color='orange', line_width=2)\n",
    "p.line(data.index, data['SyV, m'],legend=\"SyV, m\",color='red', line_width=2)\n",
    "p.xaxis.axis_label = 't, s'\n",
    "p.yaxis.axis_label = 'm'\n",
    "show(p) "
   ]
  },
  {
   "cell_type": "code",
   "execution_count": null,
   "metadata": {},
   "outputs": [],
   "source": [
    "p = figure(plot_width=800, plot_height=400, title=\"Akselerometro atstumas Sz, m\")\n",
    "p.line(data.index, data['Sz, m'], legend=\"Sz, m\", line_width=2)\n",
    "p.line(data.index, data['Sz2, m'],legend=\"Sz2, m\", color='green', line_width=2)\n",
    "p.line(data.index, data['Sz3, m'],legend=\"Sz3, m\", color='orange', line_width=2)\n",
    "p.line(data.index, data['SzV, m'],legend=\"SzV, m\",color='red', line_width=2)\n",
    "p.xaxis.axis_label = 't, s'\n",
    "p.yaxis.axis_label = 'm'\n",
    "show(p) "
   ]
  },
  {
   "cell_type": "code",
   "execution_count": null,
   "metadata": {},
   "outputs": [],
   "source": []
  },
  {
   "cell_type": "markdown",
   "metadata": {},
   "source": [
    "## Integravimo metu gautas poslinkio kampas"
   ]
  },
  {
   "cell_type": "code",
   "execution_count": null,
   "metadata": {},
   "outputs": [],
   "source": [
    "p = figure(plot_width=800, plot_height=400, title=\"Integravimo metu gautas poslinkio kampas Gx, deg\")\n",
    "p.line(data.index, data['Gx, deg'], legend=\"Gx, deg\", line_width=2)\n",
    "p.line(data.index, data['Gx2, deg'],legend=\"Gx2, deg\", color='green', line_width=2)\n",
    "p.line(data.index, data['Gx3, deg'],legend=\"Gx3, deg\", color='orange', line_width=2)\n",
    "p.line(data.index, data['GxV, deg'],legend=\"GxV, deg\",color='red', line_width=2)\n",
    "p.xaxis.axis_label = 't, s'\n",
    "p.yaxis.axis_label = 'deg'\n",
    "show(p) "
   ]
  },
  {
   "cell_type": "code",
   "execution_count": null,
   "metadata": {},
   "outputs": [],
   "source": [
    "p = figure(plot_width=800, plot_height=400, title=\"Integravimo metu gautas poslinkio kampas Gy, deg\")\n",
    "p.line(data.index, data['Gy, deg'], legend=\"Gy, deg\", line_width=2)\n",
    "p.line(data.index, data['Gy2, deg'],legend=\"Gy2, deg\", color='green', line_width=2)\n",
    "p.line(data.index, data['Gy3, deg'],legend=\"Gy3, deg\", color='orange', line_width=2)\n",
    "p.line(data.index, data['GyV, deg'],legend=\"GyV, deg\",color='red', line_width=2)\n",
    "p.xaxis.axis_label = 't, s'\n",
    "p.yaxis.axis_label = 'deg'\n",
    "show(p) "
   ]
  },
  {
   "cell_type": "code",
   "execution_count": null,
   "metadata": {},
   "outputs": [],
   "source": [
    "p = figure(plot_width=800, plot_height=400, title=\"Integravimo metu gautas poslinkio kampas Gz, deg\")\n",
    "p.line(data.index, data['Gz, deg'], legend=\"Gz, deg\", line_width=2)\n",
    "p.line(data.index, data['Gz2, deg'],legend=\"Gz2, deg\", color='green', line_width=2)\n",
    "p.line(data.index, data['Gz3, deg'],legend=\"Gz3, deg\", color='orange', line_width=2)\n",
    "p.line(data.index, data['GzV, deg'],legend=\"GV, deg\",color='red', line_width=2)\n",
    "p.xaxis.axis_label = 't, s'\n",
    "p.yaxis.axis_label = 'deg'\n",
    "show(p) "
   ]
  },
  {
   "cell_type": "markdown",
   "metadata": {},
   "source": [
    "# Temperatūrinės priklausomybės"
   ]
  },
  {
   "cell_type": "code",
   "execution_count": null,
   "metadata": {},
   "outputs": [],
   "source": [
    "p = figure(plot_width=800, plot_height=400, title=\"Ax priklausomybe nuo T\")\n",
    "p.scatter(data['T, C'], data['Ax, g'], legend=\"Ax\", line_width=0.1)\n",
    "\n",
    "p.xaxis.axis_label = 'T, C'\n",
    "p.yaxis.axis_label = 'm/s2'\n",
    "show(p) \n"
   ]
  },
  {
   "cell_type": "code",
   "execution_count": null,
   "metadata": {},
   "outputs": [],
   "source": [
    "p = figure(plot_width=800, plot_height=400, title=\"Ay priklausomybe nuo T\")\n",
    "p.scatter(data['T, C'], data['Ay, g'], legend=\"Ay\", line_width=0.1)\n",
    "\n",
    "p.xaxis.axis_label = 'T, C'\n",
    "p.yaxis.axis_label = 'm/s2'\n",
    "show(p) "
   ]
  },
  {
   "cell_type": "code",
   "execution_count": null,
   "metadata": {},
   "outputs": [],
   "source": [
    "p = figure(plot_width=800, plot_height=400, title=\"Az priklausomybe nuo T\")\n",
    "p.scatter(data['T, C'], data['Az, g'], legend=\"Az\", line_width=0.1)\n",
    "p.xaxis.axis_label = 'T, C'\n",
    "p.yaxis.axis_label = 'm/s2'\n",
    "show(p) "
   ]
  },
  {
   "cell_type": "code",
   "execution_count": null,
   "metadata": {},
   "outputs": [],
   "source": [
    "p = figure(plot_width=800, plot_height=400, title=\"Wx priklausomybe nuo T\")\n",
    "p.scatter(data['T, C'], data['Wx, dps'], legend=\"Wx, dps\", line_width=0.1)\n",
    "p.scatter(data['T, C'], data['Wx2, dps'],legend=\"Wx2, dps\", color='green', line_width=0.1)\n",
    "p.scatter(data['T, C'], data['Wx3, dps'],legend=\"Wx3, dps\", color='orange', line_width=0.1)\n",
    "\n",
    "\n",
    "p.xaxis.axis_label = 'T, C'\n",
    "p.yaxis.axis_label = 'dps'\n",
    "show(p) "
   ]
  },
  {
   "cell_type": "code",
   "execution_count": null,
   "metadata": {},
   "outputs": [],
   "source": [
    "p = figure(plot_width=800, plot_height=400, title=\"Wy priklausomybe nuo T\")\n",
    "p.scatter(data['T, C'], data['Wy, dps'], legend=\"Wy, dps\", line_width=0.1)\n",
    "p.scatter(data['T, C'], data['Wy2, dps'],legend=\"Wy2, dps\", color='green', line_width=0.1)\n",
    "p.scatter(data['T, C'], data['Wy3, dps'],legend=\"Wy3, dps\", color='orange', line_width=0.1)\n",
    "\n",
    "p.xaxis.axis_label = 'T, C'\n",
    "p.yaxis.axis_label = 'dps'\n",
    "show(p) "
   ]
  },
  {
   "cell_type": "code",
   "execution_count": null,
   "metadata": {},
   "outputs": [],
   "source": [
    "p = figure(plot_width=800, plot_height=400, title=\"Wz priklausomybe nuo T\")\n",
    "p.scatter(data['T, C'], data['Wz, dps'], legend=\"Wz, dps\", line_width=0.1)\n",
    "p.scatter(data['T, C'], data['Wz2, dps'],legend=\"Wz2, dps\", color='green', line_width=0.1)\n",
    "p.scatter(data['T, C'], data['Wz3, dps'],legend=\"Wz3, dps\", color='orange', line_width=0.1)\n",
    "\n",
    "p.xaxis.axis_label = 'T, C'\n",
    "p.yaxis.axis_label = 'dps'\n",
    "show(p) "
   ]
  },
  {
   "cell_type": "markdown",
   "metadata": {},
   "source": [
    "# Ax histogramos"
   ]
  },
  {
   "cell_type": "code",
   "execution_count": null,
   "metadata": {},
   "outputs": [],
   "source": [
    "re, edges = np.histogram(data['Ax, g'], bins=20, weights = np.ones_like(data.index) / len(data.index))\n",
    "p1 = figure(plot_width=300, plot_height=300) \n",
    "p1.quad(top=re, bottom=0, left=edges[:-1], right=edges[1:], line_color=\"white\")\n",
    "p1.xaxis.axis_label = 'Ax, m/s^2'\n",
    "p1.yaxis.axis_label = '%'\n",
    "show(p1)"
   ]
  },
  {
   "cell_type": "code",
   "execution_count": null,
   "metadata": {},
   "outputs": [],
   "source": [
    "re, edges = np.histogram(data['Ax2, g'], bins=20, weights = np.ones_like(data.index) / len(data.index))\n",
    "p1 = figure(plot_width=300, plot_height=300) \n",
    "p1.quad(top=re, bottom=0, left=edges[:-1], right=edges[1:], color='green', line_color=\"white\")\n",
    "p1.xaxis.axis_label = 'Ax2, m/s^2'\n",
    "p1.yaxis.axis_label = '%'\n",
    "show(p1)"
   ]
  },
  {
   "cell_type": "code",
   "execution_count": null,
   "metadata": {},
   "outputs": [],
   "source": [
    "re, edges = np.histogram(data['Ax3, g'], bins=20, weights = np.ones_like(data.index) / len(data.index))\n",
    "p1 = figure(plot_width=300, plot_height=300) \n",
    "p1.quad(top=re, bottom=0, left=edges[:-1], right=edges[1:], color='orange', line_color=\"white\")\n",
    "p1.xaxis.axis_label ='Ax3, m/s^2'\n",
    "p1.yaxis.axis_label = '%'\n",
    "show(p1)"
   ]
  },
  {
   "cell_type": "code",
   "execution_count": null,
   "metadata": {},
   "outputs": [],
   "source": [
    "re, edges = np.histogram(data['AxV, g'], bins=20, weights = np.ones_like(data.index) / len(data.index))\n",
    "p1 = figure(plot_width=300, plot_height=300) \n",
    "p1.quad(top=re, bottom=0, left=edges[:-1], right=edges[1:], color='red', line_color=\"white\")\n",
    "p1.xaxis.axis_label ='AxV, m/s^2'\n",
    "p1.yaxis.axis_label = '%'\n",
    "show(p1)"
   ]
  },
  {
   "cell_type": "markdown",
   "metadata": {},
   "source": [
    "# Ay histogramos"
   ]
  },
  {
   "cell_type": "code",
   "execution_count": null,
   "metadata": {},
   "outputs": [],
   "source": [
    "re, edges = np.histogram(data['Ay, g'], bins=20, weights = np.ones_like(data.index) / len(data.index))\n",
    "p2 = figure(plot_width=300, plot_height=300) \n",
    "p2.quad(top=re, bottom=0, left=edges[:-1], right=edges[1:], line_color=\"white\")\n",
    "p2.xaxis.axis_label ='Ay, m/s^2'\n",
    "p2.yaxis.axis_label = '%'\n",
    "show(p2)"
   ]
  },
  {
   "cell_type": "code",
   "execution_count": null,
   "metadata": {},
   "outputs": [],
   "source": [
    "re, edges = np.histogram(data['Ay2, g'], bins=20, weights = np.ones_like(data.index) / len(data.index))\n",
    "p2 = figure(plot_width=300, plot_height=300) \n",
    "p2.quad(top=re, bottom=0, left=edges[:-1], right=edges[1:], color= 'green', line_color=\"white\")\n",
    "p2.xaxis.axis_label ='Ay2, m/s^2'\n",
    "p2.yaxis.axis_label = '%'\n",
    "show(p2)"
   ]
  },
  {
   "cell_type": "code",
   "execution_count": null,
   "metadata": {},
   "outputs": [],
   "source": [
    "re, edges = np.histogram(data['Ay3, g'], bins=20, weights = np.ones_like(data.index) / len(data.index))\n",
    "p2 = figure(plot_width=300, plot_height=300) \n",
    "p2.quad(top=re, bottom=0, left=edges[:-1], right=edges[1:], color='orange', line_color=\"white\")\n",
    "p2.xaxis.axis_label ='Ay, m/s^2'\n",
    "p2.yaxis.axis_label = '%'\n",
    "show(p2)"
   ]
  },
  {
   "cell_type": "code",
   "execution_count": null,
   "metadata": {},
   "outputs": [],
   "source": [
    "re, edges = np.histogram(data['AyV, g'], bins=20, weights = np.ones_like(data.index) / len(data.index))\n",
    "p2 = figure(plot_width=300, plot_height=300) \n",
    "p2.quad(top=re, bottom=0, left=edges[:-1], right=edges[1:], color='red', line_color=\"white\")\n",
    "p2.xaxis.axis_label ='AyV, m/s^2'\n",
    "p2.yaxis.axis_label = '%'\n",
    "show(p2)"
   ]
  },
  {
   "cell_type": "markdown",
   "metadata": {},
   "source": [
    "# Az histogramos"
   ]
  },
  {
   "cell_type": "code",
   "execution_count": null,
   "metadata": {},
   "outputs": [],
   "source": [
    "re, edges = np.histogram(data['Az, g'], bins=20, weights = np.ones_like(data.index) / len(data.index))\n",
    "p3 = figure(plot_width=300, plot_height=300) \n",
    "p3.quad(top=re, bottom=0, left=edges[:-1], right=edges[1:], line_color=\"white\")\n",
    "p3.xaxis.axis_label ='Az, m/s^2'\n",
    "p3.yaxis.axis_label = '%'\n",
    "show(p3)"
   ]
  },
  {
   "cell_type": "code",
   "execution_count": null,
   "metadata": {},
   "outputs": [],
   "source": [
    "re, edges = np.histogram(data['Az2, g'], bins=20, weights = np.ones_like(data.index) / len(data.index))\n",
    "p3 = figure(plot_width=300, plot_height=300) \n",
    "p3.quad(top=re, bottom=0, left=edges[:-1], right=edges[1:], color='green', line_color=\"white\")\n",
    "p3.xaxis.axis_label ='Az2, m/s^2'\n",
    "p3.yaxis.axis_label = '%'\n",
    "show(p3)"
   ]
  },
  {
   "cell_type": "code",
   "execution_count": null,
   "metadata": {},
   "outputs": [],
   "source": [
    "re, edges = np.histogram(data['Az3, g'], bins=20, weights = np.ones_like(data.index) / len(data.index))\n",
    "p3 = figure(plot_width=300, plot_height=300) \n",
    "p3.quad(top=re, bottom=0, left=edges[:-1], right=edges[1:], color='orange', line_color=\"white\")\n",
    "p3.xaxis.axis_label ='Az3, m/s^2'\n",
    "p3.yaxis.axis_label = '%'\n",
    "show(p3)"
   ]
  },
  {
   "cell_type": "code",
   "execution_count": null,
   "metadata": {},
   "outputs": [],
   "source": [
    "re, edges = np.histogram(data['AzV, g'], bins=20, weights = np.ones_like(data.index) / len(data.index))\n",
    "p3 = figure(plot_width=300, plot_height=300) \n",
    "p3.quad(top=re, bottom=0, left=edges[:-1], right=edges[1:], color='red', line_color=\"white\")\n",
    "p3.xaxis.axis_label ='AzV, m/s^2'\n",
    "p3.yaxis.axis_label = '%'\n",
    "show(p3)"
   ]
  },
  {
   "cell_type": "markdown",
   "metadata": {},
   "source": [
    "# Wx histogramos"
   ]
  },
  {
   "cell_type": "code",
   "execution_count": null,
   "metadata": {},
   "outputs": [],
   "source": [
    "re, edges = np.histogram(data['Wx, dps'], bins=20, weights = np.ones_like(data.index) / len(data.index))\n",
    "p4 = figure(plot_width=300, plot_height=300) \n",
    "p4.quad(top=re, bottom=0, left=edges[:-1], right=edges[1:], line_color=\"white\")\n",
    "p4.xaxis.axis_label ='Wx, dps'\n",
    "p4.yaxis.axis_label = '%'\n",
    "show(p4)"
   ]
  },
  {
   "cell_type": "code",
   "execution_count": null,
   "metadata": {},
   "outputs": [],
   "source": [
    "re, edges = np.histogram(data['Wx2, dps'], bins=20, weights = np.ones_like(data.index) / len(data.index))\n",
    "p4 = figure(plot_width=300, plot_height=300) \n",
    "p4.quad(top=re, bottom=0, left=edges[:-1], right=edges[1:], color='green', line_color=\"white\")\n",
    "p4.xaxis.axis_label ='Wx2, dps'\n",
    "p4.yaxis.axis_label = '%'\n",
    "show(p4)"
   ]
  },
  {
   "cell_type": "code",
   "execution_count": null,
   "metadata": {},
   "outputs": [],
   "source": [
    "re, edges = np.histogram(data['Wx3, dps'], bins=20, weights = np.ones_like(data.index) / len(data.index))\n",
    "p4 = figure(plot_width=300, plot_height=300) \n",
    "p4.quad(top=re, bottom=0, left=edges[:-1], right=edges[1:], color='orange', line_color=\"white\")\n",
    "p4.xaxis.axis_label ='Wx3, dps'\n",
    "p4.yaxis.axis_label = '%'\n",
    "show(p4)"
   ]
  },
  {
   "cell_type": "code",
   "execution_count": null,
   "metadata": {},
   "outputs": [],
   "source": [
    "re, edges = np.histogram(data['WxV, dps'], bins=20, weights = np.ones_like(data.index) / len(data.index))\n",
    "p4 = figure(plot_width=300, plot_height=300) \n",
    "p4.quad(top=re, bottom=0, left=edges[:-1], right=edges[1:], color='red', line_color=\"white\")\n",
    "p4.xaxis.axis_label ='WxV, dps'\n",
    "p4.yaxis.axis_label = '%'\n",
    "show(p4)"
   ]
  },
  {
   "cell_type": "markdown",
   "metadata": {},
   "source": [
    "# Wy histogramos"
   ]
  },
  {
   "cell_type": "code",
   "execution_count": null,
   "metadata": {},
   "outputs": [],
   "source": [
    "re, edges = np.histogram(data['Wy, dps'], bins=20, weights = np.ones_like(data.index) / len(data.index))\n",
    "p5 = figure(plot_width=300, plot_height=300) \n",
    "p5.quad(top=re, bottom=0, left=edges[:-1], right=edges[1:], line_color=\"white\")\n",
    "p5.xaxis.axis_label ='Wy, dps'\n",
    "p5.yaxis.axis_label = '%'\n",
    "show(p5)"
   ]
  },
  {
   "cell_type": "code",
   "execution_count": null,
   "metadata": {},
   "outputs": [],
   "source": [
    "re, edges = np.histogram(data['Wy2, dps'], bins=20, weights = np.ones_like(data.index) / len(data.index))\n",
    "p5 = figure(plot_width=300, plot_height=300) \n",
    "p5.quad(top=re, bottom=0, left=edges[:-1], right=edges[1:], color='green', line_color=\"white\")\n",
    "p5.xaxis.axis_label ='Wy2, dps'\n",
    "p5.yaxis.axis_label = '%'\n",
    "show(p5)"
   ]
  },
  {
   "cell_type": "code",
   "execution_count": null,
   "metadata": {},
   "outputs": [],
   "source": [
    "re, edges = np.histogram(data['Wy3, dps'], bins=20, weights = np.ones_like(data.index) / len(data.index))\n",
    "p5 = figure(plot_width=300, plot_height=300) \n",
    "p5.quad(top=re, bottom=0, left=edges[:-1], right=edges[1:], color='orange', line_color=\"white\")\n",
    "p5.xaxis.axis_label ='Wy3, dps'\n",
    "p5.yaxis.axis_label = '%'\n",
    "show(p5)"
   ]
  },
  {
   "cell_type": "code",
   "execution_count": null,
   "metadata": {},
   "outputs": [],
   "source": [
    "re, edges = np.histogram(data['WyV, dps'], bins=20, weights = np.ones_like(data.index) / len(data.index))\n",
    "p5 = figure(plot_width=300, plot_height=300) \n",
    "p5.quad(top=re, bottom=0, left=edges[:-1], right=edges[1:], color='red', line_color=\"white\")\n",
    "p5.xaxis.axis_label ='WyV, dps'\n",
    "p5.yaxis.axis_label = '%'\n",
    "show(p5)"
   ]
  },
  {
   "cell_type": "markdown",
   "metadata": {},
   "source": [
    "# Wz histogramos"
   ]
  },
  {
   "cell_type": "code",
   "execution_count": null,
   "metadata": {},
   "outputs": [],
   "source": [
    "re, edges = np.histogram(data['Wz, dps'], bins=20, weights = np.ones_like(data.index) / len(data.index))\n",
    "p6 = figure(plot_width=300, plot_height=300) \n",
    "p6.quad(top=re, bottom=0, left=edges[:-1], right=edges[1:], line_color=\"white\")\n",
    "p6.xaxis.axis_label ='Wz, dps'\n",
    "p6.yaxis.axis_label = '%'\n",
    "show(p6)"
   ]
  },
  {
   "cell_type": "code",
   "execution_count": null,
   "metadata": {},
   "outputs": [],
   "source": [
    "re, edges = np.histogram(data['Wz2, dps'], bins=20, weights = np.ones_like(data.index) / len(data.index))\n",
    "p6 = figure(plot_width=300, plot_height=300) \n",
    "p6.quad(top=re, bottom=0, left=edges[:-1], right=edges[1:], color='green', line_color=\"white\")\n",
    "p6.xaxis.axis_label ='Wz2, dps'\n",
    "p6.yaxis.axis_label = '%'\n",
    "show(p6)"
   ]
  },
  {
   "cell_type": "code",
   "execution_count": null,
   "metadata": {},
   "outputs": [],
   "source": [
    "re, edges = np.histogram(data['Wz3, dps'], bins=20, weights = np.ones_like(data.index) / len(data.index))\n",
    "p6 = figure(plot_width=300, plot_height=300) \n",
    "p6.quad(top=re, bottom=0, left=edges[:-1], right=edges[1:], color='orange', line_color=\"white\")\n",
    "p6.xaxis.axis_label ='Wz3, dps'\n",
    "p6.yaxis.axis_label = '%'\n",
    "show(p6)"
   ]
  },
  {
   "cell_type": "code",
   "execution_count": null,
   "metadata": {},
   "outputs": [],
   "source": [
    "re, edges = np.histogram(data['WzV, dps'], bins=20, weights = np.ones_like(data.index) / len(data.index))\n",
    "p6 = figure(plot_width=300, plot_height=300) \n",
    "p6.quad(top=re, bottom=0, left=edges[:-1], right=edges[1:], color='red', line_color=\"white\")\n",
    "p6.xaxis.axis_label ='WzV, dps'\n",
    "p6.yaxis.axis_label = '%'\n",
    "show(p6)"
   ]
  },
  {
   "cell_type": "code",
   "execution_count": null,
   "metadata": {},
   "outputs": [],
   "source": []
  }
 ],
 "metadata": {
  "kernelspec": {
   "display_name": "Python 3",
   "language": "python",
   "name": "python3"
  },
  "language_info": {
   "codemirror_mode": {
    "name": "ipython",
    "version": 3
   },
   "file_extension": ".py",
   "mimetype": "text/x-python",
   "name": "python",
   "nbconvert_exporter": "python",
   "pygments_lexer": "ipython3",
   "version": "3.7.2"
  }
 },
 "nbformat": 4,
 "nbformat_minor": 2
}
